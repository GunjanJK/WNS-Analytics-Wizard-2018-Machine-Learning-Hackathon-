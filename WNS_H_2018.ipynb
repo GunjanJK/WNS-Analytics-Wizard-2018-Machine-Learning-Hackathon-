{
 "cells": [
  {
   "cell_type": "code",
   "execution_count": 1,
   "metadata": {},
   "outputs": [],
   "source": [
    "import pandas as pd\n",
    "import numpy as np"
   ]
  },
  {
   "cell_type": "code",
   "execution_count": 2,
   "metadata": {},
   "outputs": [],
   "source": [
    "# Reading the dataset\n",
    "train = pd.read_csv(\"train.csv\")"
   ]
  },
  {
   "cell_type": "code",
   "execution_count": 3,
   "metadata": {},
   "outputs": [],
   "source": [
    "# creating group as per training_score\n",
    "\n",
    "train_score = []\n",
    "\n",
    "\n",
    "for score in train['avg_training_score']:\n",
    "    if score <= 40 :\n",
    "        train_score.append(0)\n",
    "    elif score < 60 :\n",
    "        train_score.append(1)\n",
    "    elif score < 80 :\n",
    "        train_score.append(2)    \n",
    "    else:\n",
    "        train_score.append(3)\n",
    "        \n",
    "# Create a column from the list\n",
    "train['train_score'] = train_score"
   ]
  },
  {
   "cell_type": "code",
   "execution_count": 4,
   "metadata": {},
   "outputs": [],
   "source": [
    "# missing value treatment"
   ]
  },
  {
   "cell_type": "code",
   "execution_count": 5,
   "metadata": {},
   "outputs": [],
   "source": [
    "train['education'].replace(np.NaN, \"Bachelor's\", inplace = True)"
   ]
  },
  {
   "cell_type": "code",
   "execution_count": 7,
   "metadata": {},
   "outputs": [],
   "source": [
    "table = train.pivot_table(values='previous_year_rating', index='department',columns='education',\n",
    "                         aggfunc=np.median)\n",
    "# Define function to return value of this pivot_table\n",
    "def fpyr(x):\n",
    "    return table.loc[x['department'],x['education']]\n",
    "train['previous_year_rating'].fillna(train[train['previous_year_rating'].isnull()].apply(fpyr, axis=1), inplace=True)"
   ]
  },
  {
   "cell_type": "code",
   "execution_count": 8,
   "metadata": {},
   "outputs": [
    {
     "data": {
      "text/plain": [
       "employee_id             0\n",
       "department              0\n",
       "region                  0\n",
       "education               0\n",
       "gender                  0\n",
       "recruitment_channel     0\n",
       "no_of_trainings         0\n",
       "age                     0\n",
       "previous_year_rating    0\n",
       "length_of_service       0\n",
       "KPIs_met >80%           0\n",
       "awards_won?             0\n",
       "avg_training_score      0\n",
       "is_promoted             0\n",
       "train_score             0\n",
       "dtype: int64"
      ]
     },
     "execution_count": 8,
     "metadata": {},
     "output_type": "execute_result"
    }
   ],
   "source": [
    "train.isnull().sum()"
   ]
  },
  {
   "cell_type": "code",
   "execution_count": 9,
   "metadata": {},
   "outputs": [],
   "source": [
    "from sklearn.preprocessing import LabelEncoder\n",
    "labelencoder = LabelEncoder()\n",
    "train.gender = labelencoder.fit_transform(train.gender)\n",
    "train.education = labelencoder.fit_transform(train.education)"
   ]
  },
  {
   "cell_type": "code",
   "execution_count": 10,
   "metadata": {},
   "outputs": [],
   "source": [
    "# Independent Variable & Dependent Variable\n",
    "X = train.loc[: , ['education','gender','previous_year_rating','KPIs_met >80%','awards_won?','train_score']]\n",
    "Y = train.loc[: , ['is_promoted']]"
   ]
  },
  {
   "cell_type": "code",
   "execution_count": 11,
   "metadata": {},
   "outputs": [],
   "source": [
    "from sklearn.ensemble import RandomForestClassifier\n",
    "from sklearn.model_selection import cross_val_score\n",
    "from sklearn.model_selection import train_test_split\n",
    "from sklearn.metrics import classification_report\n",
    "from sklearn.metrics import confusion_matrix\n",
    "from sklearn.metrics import precision_score, recall_score\n",
    "from sklearn.metrics import accuracy_score\n",
    "from sklearn.metrics import f1_score"
   ]
  },
  {
   "cell_type": "code",
   "execution_count": 12,
   "metadata": {},
   "outputs": [],
   "source": [
    "X_train, X_test, Y_train, Y_test = train_test_split(X, Y, test_size=0.20, random_state=7)"
   ]
  },
  {
   "cell_type": "code",
   "execution_count": 37,
   "metadata": {},
   "outputs": [],
   "source": [
    "RF = RandomForestClassifier(n_estimators=3500,max_depth=3,oob_score=True,n_jobs = -1,random_state =50,\n",
    "                            max_features = \"sqrt\", min_samples_leaf = 50)\n",
    "RF.fit(X_train,Y_train.values.ravel())\n",
    "scores = cross_val_score(RF, X_train, Y_train.values.ravel(), cv=10, scoring='f1')\n",
    "Y_Pred = RF.predict(X_test)"
   ]
  },
  {
   "cell_type": "code",
   "execution_count": 38,
   "metadata": {},
   "outputs": [],
   "source": [
    "p_s = precision_score(Y_test,Y_Pred)\n",
    "r_s = recall_score(Y_test,Y_Pred)\n",
    "cm = confusion_matrix(Y_test, Y_Pred)"
   ]
  },
  {
   "cell_type": "code",
   "execution_count": 39,
   "metadata": {},
   "outputs": [
    {
     "name": "stdout",
     "output_type": "stream",
     "text": [
      "Precision score is : 1.0\n"
     ]
    }
   ],
   "source": [
    "print('Precision score is :', p_s)"
   ]
  },
  {
   "cell_type": "code",
   "execution_count": 40,
   "metadata": {},
   "outputs": [
    {
     "name": "stdout",
     "output_type": "stream",
     "text": [
      "Recall score is : 0.021229050279329607\n"
     ]
    }
   ],
   "source": [
    "print('Recall score is :', r_s)"
   ]
  },
  {
   "cell_type": "code",
   "execution_count": 41,
   "metadata": {},
   "outputs": [
    {
     "data": {
      "text/plain": [
       "array([[10067,     0],\n",
       "       [  876,    19]], dtype=int64)"
      ]
     },
     "execution_count": 41,
     "metadata": {},
     "output_type": "execute_result"
    }
   ],
   "source": [
    "cm"
   ]
  },
  {
   "cell_type": "code",
   "execution_count": 42,
   "metadata": {},
   "outputs": [],
   "source": [
    "f_score_Rma = f1_score(Y_test.values.ravel(), Y_Pred, average='macro')\n",
    "f_score_Rmi = f1_score(Y_test.values.ravel(), Y_Pred, average='micro')\n",
    "f_score_Rwt = f1_score(Y_test.values.ravel(), Y_Pred, average='weighted')\n",
    "f_score_Rno = f1_score(Y_test.values.ravel(), Y_Pred, average=None)"
   ]
  },
  {
   "cell_type": "code",
   "execution_count": 43,
   "metadata": {},
   "outputs": [
    {
     "name": "stdout",
     "output_type": "stream",
     "text": [
      "f1_score_macro for Random Forest is :  0.49994053055906484\n",
      "f1_score_micro for Random Forest is :  0.9200875752599891\n",
      "f1_score_weighted for Random Forest is :  0.8834585136399642\n",
      "f1_score_none for Random Forest is :  [0.95830557 0.04157549]\n"
     ]
    }
   ],
   "source": [
    "print(\"f1_score_macro for Random Forest is : \", f_score_Rma)\n",
    "print(\"f1_score_micro for Random Forest is : \", f_score_Rmi)\n",
    "print(\"f1_score_weighted for Random Forest is : \", f_score_Rwt)\n",
    "print(\"f1_score_none for Random Forest is : \", f_score_Rno)"
   ]
  },
  {
   "cell_type": "markdown",
   "metadata": {},
   "source": [
    "# Predicting Test set"
   ]
  },
  {
   "cell_type": "code",
   "execution_count": 21,
   "metadata": {},
   "outputs": [],
   "source": [
    "test = pd.read_csv(\"test.csv\")"
   ]
  },
  {
   "cell_type": "code",
   "execution_count": 22,
   "metadata": {},
   "outputs": [],
   "source": [
    "# creating group as per training_score\n",
    "\n",
    "train_score = []\n",
    "\n",
    "\n",
    "for score in test['avg_training_score']:\n",
    "    if score <= 40 :\n",
    "        train_score.append(0)\n",
    "    elif score < 60 :\n",
    "        train_score.append(1)\n",
    "    elif score < 80 :\n",
    "        train_score.append(2)    \n",
    "    else:\n",
    "        train_score.append(3)\n",
    "        \n",
    "# Create a column from the list\n",
    "test['train_score'] = train_score"
   ]
  },
  {
   "cell_type": "markdown",
   "metadata": {},
   "source": [
    "Missing Value Treatment"
   ]
  },
  {
   "cell_type": "code",
   "execution_count": 23,
   "metadata": {},
   "outputs": [],
   "source": [
    "test['education'].replace(np.NaN, \"Bachelor's\", inplace = True)"
   ]
  },
  {
   "cell_type": "code",
   "execution_count": 25,
   "metadata": {},
   "outputs": [],
   "source": [
    "table = test.pivot_table(values='previous_year_rating', index='department',columns='education',\n",
    "                         aggfunc=np.median)\n",
    "# Define function to return value of this pivot_table\n",
    "def fpyr(x):\n",
    "    return table.loc[x['department'],x['education']]\n",
    "test['previous_year_rating'].fillna(test[test['previous_year_rating'].isnull()].apply(fpyr, axis=1), inplace=True)"
   ]
  },
  {
   "cell_type": "code",
   "execution_count": 26,
   "metadata": {},
   "outputs": [],
   "source": [
    "# category to numeric conversion\n",
    "labelencoder = LabelEncoder()\n",
    "test.gender = labelencoder.fit_transform(test.gender)\n",
    "test.education = labelencoder.fit_transform(test.education)"
   ]
  },
  {
   "cell_type": "code",
   "execution_count": 27,
   "metadata": {},
   "outputs": [],
   "source": [
    "X_1 = test.loc[: , ['education','gender','previous_year_rating','KPIs_met >80%','awards_won?','train_score']]"
   ]
  },
  {
   "cell_type": "code",
   "execution_count": 28,
   "metadata": {},
   "outputs": [],
   "source": [
    "RF.fit(X_train , Y_train.values.ravel())\n",
    "is_promoted1 = RF.predict(X_1)"
   ]
  },
  {
   "cell_type": "code",
   "execution_count": 29,
   "metadata": {},
   "outputs": [],
   "source": [
    "pd.DataFrame({\"employee_id\":test.employee_id , \"is_promoted\":is_promoted1}).set_index(\"employee_id\").to_csv(\"submission3.csv\")"
   ]
  },
  {
   "cell_type": "markdown",
   "metadata": {},
   "source": []
  }
 ],
 "metadata": {
  "kernelspec": {
   "display_name": "Python 3",
   "language": "python",
   "name": "python3"
  },
  "language_info": {
   "codemirror_mode": {
    "name": "ipython",
    "version": 3
   },
   "file_extension": ".py",
   "mimetype": "text/x-python",
   "name": "python",
   "nbconvert_exporter": "python",
   "pygments_lexer": "ipython3",
   "version": "3.6.5"
  }
 },
 "nbformat": 4,
 "nbformat_minor": 2
}
